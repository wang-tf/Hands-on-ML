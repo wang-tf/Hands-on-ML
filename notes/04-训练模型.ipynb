{
 "cells": [
  {
   "cell_type": "markdown",
   "metadata": {},
   "source": [
    "# 线性回归"
   ]
  },
  {
   "cell_type": "markdown",
   "metadata": {},
   "source": [
    "**线性模型就是对输入特征加权求和，再加上一个常数偏置项(也叫截距项)。**\n"
   ]
  },
  {
   "cell_type": "markdown",
   "metadata": {},
   "source": [
    "**公式4-1：线性回归模型预测**\n",
    "$$\n",
    "\\hat y = \\theta_0 + \\theta_1 x_1 + \\theta_2 x_2 + ... + \\theta_n x_n\n",
    "$$\n",
    "- $\\hat y$是预测值\n",
    "- n是特征的数量\n",
    "- $x_i$是第i个特征值\n",
    "- $\\theta_j$是第j个模型参数\n"
   ]
  },
  {
   "cell_type": "markdown",
   "metadata": {},
   "source": [
    "**公式4-2：线性回归模型预测（向量化）**\n",
    "$$\n",
    "\\hat y = h_{\\theta}(X) = \\theta^T \\cdot X\n",
    "$$\n",
    "- $\\theta$是模型的参数向量\n",
    "- $\\theta^T$是$\\theta$的转置向量\n",
    "- X是实例的特征向量\n",
    "- $\\theta^T \\cdot X$是$\\theta^T$和$X$的点积\n",
    "- $h_\\theta$是使用模型参数$\\theta$的假设函数\n"
   ]
  },
  {
   "cell_type": "markdown",
   "metadata": {},
   "source": [
    "回归模型最常见的性能指标是均方根误差（RMSE）。因此，在训练线性回归模型时，你需要找到最小化RMSE的$\\theta$值。在实践中，最小化均方误差（MSE）比最小化RMSE更简单。"
   ]
  },
  {
   "cell_type": "markdown",
   "metadata": {},
   "source": [
    "**公式4-3：线性回归模型的MSE成本函数**\n",
    "$$\n",
    "MSE(X, h_\\theta) = \\frac 1 m \\sum_{i=1}^{m} (\\theta^T \\cdot X^{(i)} - y^{(i)})^2\n",
    "$$"
   ]
  },
  {
   "cell_type": "markdown",
   "metadata": {},
   "source": [
    "## 标准方程\n",
    "\n",
    "为了得到使成本函数最小的$\\theta$值，有一个闭式解方法"
   ]
  },
  {
   "cell_type": "markdown",
   "metadata": {},
   "source": [
    "**公式4-4：标准方程**\n",
    "$$\n",
    "\\hat \\theta = (X^T \\cdot X)^{-1} \\cdot X^T \\cdot y\n",
    "$$\n",
    "- $\\hat \\theta$是使成本函数最小的$\\theta$值\n",
    "- y是包含$y^{(1)}$到$y^{(m)}$的目标值向量\n"
   ]
  },
  {
   "cell_type": "code",
   "execution_count": 1,
   "metadata": {},
   "outputs": [],
   "source": [
    "# 测试方程\n",
    "import numpy as np\n",
    "\n",
    "X = 2 * np.random.rand(100, 1)\n",
    "y = 4 + 3 * X + np.random.randn(100, 1)"
   ]
  },
  {
   "cell_type": "code",
   "execution_count": 2,
   "metadata": {},
   "outputs": [
    {
     "data": {
      "image/png": "[encoded data removed]",
      "text/plain": [
       "<Figure size 432x288 with 1 Axes>"
      ]
     },
     "metadata": {
      "needs_background": "light"
     },
     "output_type": "display_data"
    }
   ],
   "source": [
    "%matplotlib inline\n",
    "import matplotlib.pyplot as plt\n",
    "\n",
    "plt.scatter(X, y, marker='.')\n",
    "plt.show()"
   ]
  },
  {
   "cell_type": "code",
   "execution_count": 3,
   "metadata": {},
   "outputs": [
    {
     "name": "stdout",
     "output_type": "stream",
     "text": [
      "[[3.72122175]\n",
      " [3.21611315]]\n"
     ]
    }
   ],
   "source": [
    "X_b = np.c_[np.ones((100, 1)), X]  # add x0 = 1\n",
    "theta_best = np.linalg.inv(X_b.T.dot(X_b)).dot(X_b.T).dot(y)\n",
    "print(theta_best)"
   ]
  },
  {
   "cell_type": "markdown",
   "metadata": {},
   "source": [
    "我们期待的是$\\theta_0=4$,$\\theta_1=3$，得到的是$\\theta_0=3.7$,$\\theta_1=3.1$。非常接近，噪声的存在使得其不可能完全还原为原本的函数。"
   ]
  },
  {
   "cell_type": "markdown",
   "metadata": {},
   "source": [
    "现在可以用$\\hat \\theta$做出预测："
   ]
  },
  {
   "cell_type": "code",
   "execution_count": 4,
   "metadata": {},
   "outputs": [
    {
     "name": "stdout",
     "output_type": "stream",
     "text": [
      "[[ 3.72122175]\n",
      " [10.15344806]]\n"
     ]
    }
   ],
   "source": [
    "X_new = np.array([[0], [2]])\n",
    "X_new_b = np.c_[np.ones((2, 1)), X_new]\n",
    "y_predict = X_new_b.dot(theta_best)\n",
    "print(y_predict)"
   ]
  },
  {
   "cell_type": "code",
   "execution_count": 5,
   "metadata": {},
   "outputs": [
    {
     "data": {
      "image/png": "[encoded data removed]",
      "text/plain": [
       "<Figure size 432x288 with 1 Axes>"
      ]
     },
     "metadata": {
      "needs_background": "light"
     },
     "output_type": "display_data"
    }
   ],
   "source": [
    "# 绘制模型的预测结果\n",
    "plt.plot(X_new, y_predict, 'r-')\n",
    "plt.plot(X, y, 'b.')\n",
    "plt.axis([0, 2, 0, 15])\n",
    "plt.show()"
   ]
  },
  {
   "cell_type": "code",
   "execution_count": 6,
   "metadata": {},
   "outputs": [
    {
     "name": "stdout",
     "output_type": "stream",
     "text": [
      "[3.72122175] [[3.21611315]]\n"
     ]
    },
    {
     "data": {
      "text/plain": [
       "array([[ 3.72122175],\n",
       "       [10.15344806]])"
      ]
     },
     "execution_count": 6,
     "metadata": {},
     "output_type": "execute_result"
    }
   ],
   "source": [
    "# Scikit-learn的等效代码如下\n",
    "from sklearn.linear_model import LinearRegression\n",
    "\n",
    "lin_reg = LinearRegression()\n",
    "lin_reg.fit(X, y)\n",
    "print(lin_reg.intercept_, lin_reg.coef_)\n",
    "\n",
    "lin_reg.predict(X_new)"
   ]
  },
  {
   "cell_type": "markdown",
   "metadata": {},
   "source": [
    "## 计算复杂度"
   ]
  },
  {
   "cell_type": "markdown",
   "metadata": {},
   "source": [
    "标准方程求逆的矩阵$X^T \\cdot X$，是一个$n \\times n$矩阵（n是特征数量）。对这种矩阵求逆的计算复杂度通常为$O(n^{2.4})$到$O(n^{3})$之间（取决于计算实现）。换句话说，如果将特征数量翻倍，那么计算时间将乘以大约$2^{2.4}=5.3$倍到$2^{3}=8$倍之间。\n",
    "\n",
    "好的一面是，相对于训练集中的实例数量(O(m))来说，方程是线性的。"
   ]
  },
  {
   "cell_type": "markdown",
   "metadata": {},
   "source": [
    "# 梯度下降"
   ]
  },
  {
   "cell_type": "markdown",
   "metadata": {},
   "source": [
    "应用梯度下降时，需要保证所有特征值的大小比例差不多，否则收敛的时间会长很多。\n",
    "\n",
    "训练模型也就是搜寻使成本函数（在训练集上）最小化的参数组合。这是模型*参数空间*层面上的搜索：模型的参数越多，这个空间的维度就越多，搜索就越难。"
   ]
  },
  {
   "cell_type": "markdown",
   "metadata": {},
   "source": [
    "## 批量梯度下降"
   ]
  },
  {
   "cell_type": "markdown",
   "metadata": {},
   "source": [
    "要实现梯度下降，你需要计算每个模型关于参数$\\theta_j$的成本函数的梯度。换言之，你需要计算的时如果改变$\\theta_j$，成本函数会改变多少。这被称为*偏导数*。\n",
    "\n",
    "公式4-5：成本函数的偏导数\n",
    "$$\n",
    "\\frac {\\partial MSE(\\theta)} {\\partial \\theta_j} = \\frac 2 m \\sum_{i=1}^m (\\theta^T \\cdot x^{(i)} - y^{(i)})x_j^{(i)}\n",
    "$$\n",
    "\n",
    "如果不想单独计算这些梯度，可以使用公式4-6对其进行一次性计算。梯度向量，记作$\\nabla_{\\theta}MSE(\\theta)$，包含所有成本函数（每一个模型参数一个）的偏导数。\n",
    "\n",
    "公式4-6：成本函数的梯度向量\n",
    "$$\n",
    "\\nabla_{\\theta} MSE(\\theta) = \n",
    "$$\n",
    "\n",
    "批量梯度下降：每一步都使用整批训练数据。\n",
    "\n",
    "一旦有了梯度向量，哪个点向上，就朝反方向下坡。也就是从$\\theta$中减去$\\nabla_{\\theta}MSE(\\theta)$，这时学习率$\\eta$就发挥作用了：用梯度向量乘以$\\eta$确定下坡步长的大小。\n",
    "\n",
    "公式4-7：梯度下降步长\n",
    "$$\n",
    "\\theta^{(next step)} = \\theta - \\eta \\nabla_{\\theta}MSE(\\theta)\n",
    "$$"
   ]
  },
  {
   "cell_type": "code",
   "execution_count": 7,
   "metadata": {},
   "outputs": [
    {
     "name": "stdout",
     "output_type": "stream",
     "text": [
      "[[3.72122175]\n",
      " [3.21611315]]\n"
     ]
    }
   ],
   "source": [
    "eta = 0.1  # learning rate\n",
    "n_iterations = 1000\n",
    "m = 100\n",
    "\n",
    "theta = np.random.randn(2, 1)  # random initiazation\n",
    "\n",
    "for iteration in range(n_iterations):\n",
    "    gradients = 2/m * X_b.T.dot(X_b.dot(theta) - y)\n",
    "    theta = theta - eta * gradients\n",
    "    \n",
    "print(theta)"
   ]
  },
  {
   "cell_type": "markdown",
   "metadata": {},
   "source": [
    "**怎么选择学习率？**\n",
    "\n",
    "可以用网格搜索\n",
    "\n",
    "**怎么限制迭代次数？**\n",
    "\n",
    "在开始时设置一个非常大的迭代次数，但是当梯度向量的值变得很微小时中断算法——也就是相当于它的范数变得低于$\\varepsilon$（称为容差）时，因为这时梯度下降已经（几乎）达到了最小值。\n",
    "\n",
    "\n",
    "**收敛率**\n",
    "\n",
    "成本函数为凸函数，并且斜率没有陡峭的变化时（如MSE成本函数），通过批量梯度下降可以看出一个固定的学习率有一个收敛率，为$0(\\frac 1 {迭代次数})$。换句话说，如果将容差$\\varepsilon$缩小为原来的1/10（以得到更精确的解），算法将不得不运行10倍的迭代次数。"
   ]
  },
  {
   "cell_type": "markdown",
   "metadata": {},
   "source": [
    "## 随机梯度下降\n",
    "\n",
    "由于算法的随机性质，它比批量梯度下降要不规则得多。\n",
    "成本函数将不再是缓缓降直到抵达最小值，而是不断上上下下，但是从整体来看，还是缓慢下降。\n",
    "但即使它到达了最小值，依然还会持续反弹，永远不会停止。所以算法停下来的参数值肯定是足够好的，但不是最优的。\n",
    "当成本函数非常不规则时，随机梯度下降其实可以帮助算法跳出局部最小值，所以相比批量梯度下降，它对找到全局最小值更有优势。\n",
    "\n",
    "因此，随机性的好处在于可以跳出局部最优，缺点是永远定位不出最小值。\n",
    "一个折中的办法是：逐步降低学习率。这个过程叫做*模拟退火*。"
   ]
  },
  {
   "cell_type": "code",
   "execution_count": 8,
   "metadata": {},
   "outputs": [
    {
     "name": "stdout",
     "output_type": "stream",
     "text": [
      "[[3.72073758]\n",
      " [3.22285269]]\n"
     ]
    }
   ],
   "source": [
    "n_epochs = 50\n",
    "t0, t1 = 5, 50  # learning schedule hyperparameters\n",
    "\n",
    "\n",
    "def learning_schedule(t):\n",
    "    return t0 / (t + t1)\n",
    "\n",
    "\n",
    "theta = np.random.randn(2, 1)\n",
    "\n",
    "for epoch in range(n_epochs):\n",
    "    for i in range(m):\n",
    "        random_index = np.random.randint(m)\n",
    "        xi = X_b[random_index:random_index+1]\n",
    "        yi = y[random_index:random_index+1]\n",
    "        gradients = 2 * xi.T.dot(xi.dot(theta) - yi)\n",
    "        eta = learning_schedule(epoch * m + i)\n",
    "        theta = theta - eta * gradients\n",
    "\n",
    "print(theta)"
   ]
  },
  {
   "cell_type": "markdown",
   "metadata": {},
   "source": [
    "## 小批量梯度下降\n",
    "\n",
    "介于批量梯度下降和随机梯度下降之间，每次选择一定数量的实例计算梯度。\n",
    "\n",
    "**线性回归算法比较**\n",
    "\n",
    "|算法|实例很多|是否支持核外|特征很多|超参数|是否需要缩放|\n",
    "|--- |--- | ---      |--- |---   |---      |\n",
    "|标准方程|快|否|慢|0|否|\n",
    "|批量梯度下降|慢|否|快|2|是|\n",
    "|随机梯度下降|快|是|快|>=2|是|\n",
    "|小批量梯度下降|快|是|快|>=2|是|\n"
   ]
  },
  {
   "cell_type": "markdown",
   "metadata": {},
   "source": [
    "## 多项式回归"
   ]
  },
  {
   "cell_type": "markdown",
   "metadata": {},
   "source": [
    "如果数据比简单的直线更为复杂，怎么办？\n",
    "\n",
    "令人意想不到的是，其实你也可以用线性模型来拟合非线性数据。\n",
    "\n",
    "一个简单的方法就是将每个特征的幂次方添加为一个新特征，然后在这个拓展过的特征集上训练线性模型。这种方法被称为*多项式回归*。\n"
   ]
  },
  {
   "cell_type": "code",
   "execution_count": 9,
   "metadata": {},
   "outputs": [
    {
     "data": {
      "image/png": "[encoded data removed]",
      "text/plain": [
       "<Figure size 432x288 with 1 Axes>"
      ]
     },
     "metadata": {
      "needs_background": "light"
     },
     "output_type": "display_data"
    }
   ],
   "source": [
    "# 制造非线性数据\n",
    "m = 100\n",
    "X = 6 * np.random.rand(m, 1) - 3\n",
    "y = 0.5 * X ** 2 + X + 2 + np.random.randn(m, 1)\n",
    "\n",
    "plt.plot(X, y, 'b.')\n",
    "plt.show()"
   ]
  },
  {
   "cell_type": "code",
   "execution_count": 10,
   "metadata": {},
   "outputs": [
    {
     "name": "stdout",
     "output_type": "stream",
     "text": [
      "[0.20414844]\n",
      "[0.20414844 0.04167659]\n"
     ]
    }
   ],
   "source": [
    "# 解释如https://www.cnblogs.com/liweiwei1419/p/9715702.html\n",
    "from sklearn.preprocessing import PolynomialFeatures\n",
    "\n",
    "poly_features = PolynomialFeatures(degree=2, include_bias=False)\n",
    "X_poly = poly_features.fit_transform(X) \n",
    "\n",
    "print(X[0])\n",
    "print(X_poly[0])"
   ]
  },
  {
   "cell_type": "code",
   "execution_count": 11,
   "metadata": {},
   "outputs": [
    {
     "data": {
      "text/plain": [
       "(array([1.72580336]), array([[1.17508179, 0.57822662]]))"
      ]
     },
     "execution_count": 11,
     "metadata": {},
     "output_type": "execute_result"
    }
   ],
   "source": [
    "lin_reg = LinearRegression()\n",
    "lin_reg.fit(X_poly, y)\n",
    "\n",
    "lin_reg.intercept_, lin_reg.coef_"
   ]
  },
  {
   "cell_type": "markdown",
   "metadata": {},
   "source": [
    "因此，预估模型$\\hat y = 0.46x_1^2 + 1.02x_1 + 1.93$，而实际上原函数是$y = 0.5x^2 + 1.0x + 2.0 + 高斯噪声$"
   ]
  },
  {
   "cell_type": "code",
   "execution_count": 12,
   "metadata": {},
   "outputs": [
    {
     "data": {
      "image/png": "[encoded data removed]",
      "text/plain": [
       "<Figure size 432x288 with 1 Axes>"
      ]
     },
     "metadata": {
      "needs_background": "light"
     },
     "output_type": "display_data"
    }
   ],
   "source": [
    "y_pred = 0.46 * X ** 2 + 1.02 * X + 1.93\n",
    "\n",
    "plt.plot(X, y, 'b.')\n",
    "plt.plot(X, y_pred, 'r.')\n",
    "plt.show()"
   ]
  },
  {
   "cell_type": "markdown",
   "metadata": {},
   "source": [
    "## 学习曲线"
   ]
  },
  {
   "cell_type": "markdown",
   "metadata": {},
   "source": [
    "对于上一个例子，如果用300阶的模型拟合数据，可能会严重的过拟合，如果线性模型则会拟合不足。这个案例中泛化最好的是二次模型。\n",
    "\n",
    "但一般来说，你不会知道生成数据的函数是什么，那么该如何确定模型的复杂程度呢？怎么才能判断模型是过拟合还是欠拟合呢？\n",
    "\n",
    "其中一种方法是交叉验证来评估模型的泛化性能，还有一种方法是*观察学习曲线*：这个曲线绘制的是模型在训练集和验证集上，关于“训练集大小”的性能函数。要生成这个曲线，只需要在不同大小的训练子集上多次训练模型即可。"
   ]
  },
  {
   "cell_type": "code",
   "execution_count": 13,
   "metadata": {},
   "outputs": [],
   "source": [
    "from sklearn.metrics import mean_squared_error\n",
    "from sklearn.model_selection import train_test_split\n",
    "\n",
    "def plot_learning_curves(model, X, y):\n",
    "    X_train, X_val, y_train, y_val = train_test_split(X, y, test_size=0.2)\n",
    "    train_errors, val_errors = [], []\n",
    "    for m in range(1, len(X_train)):\n",
    "        model.fit(X_train[:m], y_train[:m])\n",
    "        y_train_predict = model.predict(X_train[:m])\n",
    "        y_val_predict = model.predict(X_val)\n",
    "        train_errors.append(mean_squared_error(y_train_predict, y_train[:m]))\n",
    "        val_errors.append(mean_squared_error(y_val_predict, y_val))\n",
    "    plt.plot(np.sqrt(train_errors), 'r-+', linewidth=2, label='train')\n",
    "    plt.plot(np.sqrt(val_errors), 'b-', linewidth=3, label='val')\n",
    "    plt.axis([0, 80, 0, 3])\n"
   ]
  },
  {
   "cell_type": "code",
   "execution_count": 14,
   "metadata": {},
   "outputs": [
    {
     "data": {
      "image/png": "[encoded data removed]",
      "text/plain": [
       "<Figure size 432x288 with 1 Axes>"
      ]
     },
     "metadata": {
      "needs_background": "light"
     },
     "output_type": "display_data"
    }
   ],
   "source": [
    "lin_reg = LinearRegression()\n",
    "plot_learning_curves(lin_reg, X, y)"
   ]
  },
  {
   "cell_type": "markdown",
   "metadata": {},
   "source": [
    " 这条学习曲线是典型的模型拟合不足。两条曲线均到达高地，非常接近，而且相当高。"
   ]
  },
  {
   "cell_type": "code",
   "execution_count": 15,
   "metadata": {},
   "outputs": [
    {
     "data": {
      "image/png": "[encoded data removed]",
      "text/plain": [
       "<Figure size 432x288 with 1 Axes>"
      ]
     },
     "metadata": {
      "needs_background": "light"
     },
     "output_type": "display_data"
    }
   ],
   "source": [
    "from sklearn.pipeline import Pipeline\n",
    "\n",
    "polynomial_regression = Pipeline((\n",
    "    ('poly_features', PolynomialFeatures(degree=10, include_bias=False)),\n",
    "    ('sgd_reg', LinearRegression()),\n",
    "    ))\n",
    "plot_learning_curves(polynomial_regression, X, y)"
   ]
  },
  {
   "cell_type": "markdown",
   "metadata": {},
   "source": [
    "对比可知：\n",
    "- 训练数据的误差远低于线性回归模型。\n",
    "- 两条曲线之间有一定差距。这正是过拟合的标志。\n",
    "\n",
    "**偏差/方差权衡**\n",
    "\n",
    "模型的泛化误差可以被表示为三个截然不同的误差之和：\n",
    "\n",
    "*偏差*\n",
    "\n",
    "这部分泛化误差的原因在于错误的假设，比如假设数据是线性的，而实际上是二次的。高偏差模型最有可能对训练数据拟合不足。\n",
    "\n",
    "*方差*\n",
    "\n",
    "这部分误差是由于模型对训练数据的微小变化过度敏感导致的。具有高自由度的模型（例如高阶多项式模型）很可能也有高方差，所以很容易对训练数据过度拟合。\n",
    "\n",
    "*不可避免的误差*\n",
    "\n",
    "这部分误差是因为数据本身的噪声所致。减少这部分误差的唯一方法就是清理数据（例如修复数据源，如损坏的传感器，或者是检测平移除异常值）。\n",
    "\n",
    "增加模型的复杂度通常会显著提升模型的方差，减少偏差。反过来，降低模型的复杂度则会提升模型的偏差，降低方差。这就是为什么称其为权衡。\n"
   ]
  },
  {
   "cell_type": "markdown",
   "metadata": {},
   "source": [
    "# 正则线性模型\n",
    "\n",
    "对线性模型来说，正则化通常通过约束模型的权重来实现。"
   ]
  },
  {
   "cell_type": "markdown",
   "metadata": {},
   "source": [
    "## 岭回归"
   ]
  },
  {
   "cell_type": "markdown",
   "metadata": {},
   "source": [
    "岭回归（也叫吉洪诺夫正则化）是线性回归的正则化版：在成本函数中添加一个等于$\\alpha \\sum_{i=1}^n \\theta_i^2$的正则项。\n",
    "\n",
    "超参数$\\alpha$控制的是对模型进行正则化的程度。\n",
    "如果$\\alpha=0$，则岭回归就是线性模型。\n",
    "如果$\\alpha$非常大，则所有的权重都将非常接近零，结果是一条穿过数据平均值的水平线。\n",
    "\n",
    "公式4-8：岭回归成本函数\n",
    "$$\n",
    "J(\\theta) = MSE(\\theta) + \\alpha \\frac 1 2 \\sum_{i=1}^2\n",
    "$$\n",
    "这里偏置项$\\theta_0$没有正则化。如果我们将w定义为特征权重的向量，那么正则项即等于$\\frac 1 2 (||w||_2)^2$其中$||w||_2$为权重向量的$l_2$范数。\n",
    "\n",
    "在执行岭回归之前，必须对数据进行缩放，因为它对输入特征的大小非常敏感。大多数正则化模型都是如此。\n"
   ]
  },
  {
   "cell_type": "markdown",
   "metadata": {},
   "source": [
    "公式4-9：闭式解的岭回归\n",
    "$$\n",
    "\\hat \\theta = (X^T \\cdot X + \\alpha A)^-1 \\cdot X^T \\cdot y\n",
    "$$"
   ]
  },
  {
   "cell_type": "code",
   "execution_count": 16,
   "metadata": {},
   "outputs": [
    {
     "data": {
      "text/plain": [
       "array([[5.03053341]])"
      ]
     },
     "execution_count": 16,
     "metadata": {},
     "output_type": "execute_result"
    }
   ],
   "source": [
    "from sklearn.linear_model import Ridge\n",
    "\n",
    "ridge_reg = Ridge(alpha=1, solver='cholesky')\n",
    "ridge_reg.fit(X, y)\n",
    "ridge_reg.predict([[1.5]])\n"
   ]
  },
  {
   "cell_type": "code",
   "execution_count": 18,
   "metadata": {},
   "outputs": [
    {
     "data": {
      "text/plain": [
       "array([5.02316912])"
      ]
     },
     "execution_count": 18,
     "metadata": {},
     "output_type": "execute_result"
    }
   ],
   "source": [
    "# 使用随机梯度下降\n",
    "from sklearn.linear_model import SGDRegressor\n",
    "\n",
    "sgd_reg = SGDRegressor(penalty='l2')\n",
    "sgd_reg.fit(X, y.ravel())\n",
    "sgd_reg.predict([[1.5]])\n"
   ]
  },
  {
   "cell_type": "markdown",
   "metadata": {},
   "source": [
    "## 套索回归\n",
    "\n",
    "线性回归的另一种正则化，叫*最小绝对收缩和选择算子回归*（Least Absolute Shrinkage and Selection Oprerator Regression,简称Lasso回归或套索回归）。\n",
    "\n",
    "公式4-10：Lasso回归成本函数\n",
    "$$\n",
    "J(\\theta) = MSE(\\theta) + \\alpha \\sum_{i=1}^n |\\theta_i|\n",
    "$$\n",
    "\n",
    "Lasso回归的一个重要特点是它倾向于完全消除掉最不重要的特征的权重。换句话说，Lasso回归会自动执行特征选择并输出一个稀疏模型。\n",
    "\n",
    "当$\\theta_i = 0(i=1,2,...,n)$，Lasso成本函数是不可微的，但是，当任意$\\theta_i = 0$时，如果使用*次梯度向量*g作为替代，依旧可以让梯度下降正常运转。\n",
    "\n",
    "公式4-11：Lasso回归次梯度向量\n",
    "$$\n",
    "g(\\theta, J) = \\nabla_{\\theta} MSE(\\theta) + \\alpha \n",
    "$$"
   ]
  },
  {
   "cell_type": "code",
   "execution_count": 19,
   "metadata": {},
   "outputs": [
    {
     "data": {
      "text/plain": [
       "array([4.98474591])"
      ]
     },
     "execution_count": 19,
     "metadata": {},
     "output_type": "execute_result"
    }
   ],
   "source": [
    "from sklearn.linear_model import Lasso\n",
    "\n",
    "lasso_reg = Lasso(alpha=0.1)\n",
    "lasso_reg.fit(X, y)\n",
    "lasso_reg.predict([[1.5]])"
   ]
  },
  {
   "cell_type": "markdown",
   "metadata": {},
   "source": [
    "## 弹性网络\n",
    "\n",
    "弹性网络是岭回归与Lasso回归之间的中间地带。\n",
    "\n",
    "公式4-12：弹性网络成本函数\n",
    "$$\n",
    "J(\\theta) = MSE(\\theta) + r\\alpha \\sum_{i=1}^n |\\theta_i| + \\frac {1-r} 2 \\alpha \\sum_{i=1}^n \\theta_i^2\n",
    "$$\n"
   ]
  },
  {
   "cell_type": "code",
   "execution_count": 22,
   "metadata": {},
   "outputs": [
    {
     "data": {
      "text/plain": [
       "array([4.98544291])"
      ]
     },
     "execution_count": 22,
     "metadata": {},
     "output_type": "execute_result"
    }
   ],
   "source": [
    "from sklearn.linear_model import ElasticNet\n",
    "\n",
    "elastic_net = ElasticNet(alpha=0.1, l1_ratio=0.5)\n",
    "elastic_net.fit(X, y)\n",
    "elastic_net.predict([[1.5]])\n"
   ]
  },
  {
   "cell_type": "markdown",
   "metadata": {},
   "source": [
    "## 早期停止法\n",
    "\n",
    "对随机梯度下降和小批量梯度下降来说，曲线不会很平滑，所以很难知道是否已经达到最小值。一种解决方法是等验证误差超过最小值一段时间之后再停止（这时你可以确信模型不会变得更好了），然后将模型参数回滚到验证误差最小的位置。\n"
   ]
  },
  {
   "cell_type": "code",
   "execution_count": 32,
   "metadata": {},
   "outputs": [
    {
     "data": {
      "image/png": "[encoded data removed]",
      "text/plain": [
       "<Figure size 432x288 with 1 Axes>"
      ]
     },
     "metadata": {
      "needs_background": "light"
     },
     "output_type": "display_data"
    }
   ],
   "source": [
    "import warnings\n",
    "warnings.filterwarnings(\"ignore\")\n",
    "\n",
    "np.random.seed(42)\n",
    "m = 100\n",
    "X = 6 * np.random.rand(m, 1) - 3\n",
    "y = 2 + X + 0.5 * X**2 + np.random.randn(m, 1)\n",
    "\n",
    "X_train, X_val, y_train, y_val = train_test_split(X[:50], y[:50].ravel(), test_size=0.5, random_state=10)\n",
    "\n",
    "poly_scaler = Pipeline([\n",
    "        (\"poly_features\", PolynomialFeatures(degree=90, include_bias=False)),\n",
    "        (\"std_scaler\", StandardScaler()),\n",
    "    ])\n",
    "\n",
    "X_train_poly_scaled = poly_scaler.fit_transform(X_train)\n",
    "X_val_poly_scaled = poly_scaler.transform(X_val)\n",
    "\n",
    "sgd_reg = SGDRegressor(max_iter=1,\n",
    "                       penalty=None,\n",
    "                       eta0=0.0005,\n",
    "                       warm_start=True,\n",
    "                       learning_rate=\"constant\",\n",
    "                       random_state=42)\n",
    "\n",
    "n_epochs = 500\n",
    "train_errors, val_errors = [], []\n",
    "for epoch in range(n_epochs):\n",
    "    sgd_reg.fit(X_train_poly_scaled, y_train)\n",
    "    y_train_predict = sgd_reg.predict(X_train_poly_scaled)\n",
    "    y_val_predict = sgd_reg.predict(X_val_poly_scaled)\n",
    "    train_errors.append(mean_squared_error(y_train, y_train_predict))\n",
    "    val_errors.append(mean_squared_error(y_val, y_val_predict))\n",
    "\n",
    "best_epoch = np.argmin(val_errors)\n",
    "best_val_rmse = np.sqrt(val_errors[best_epoch])\n",
    "\n",
    "plt.annotate('Best model',\n",
    "             xy=(best_epoch, best_val_rmse),\n",
    "             xytext=(best_epoch, best_val_rmse + 1),\n",
    "             ha=\"center\",\n",
    "             arrowprops=dict(facecolor='black', shrink=0.05),\n",
    "             fontsize=16,\n",
    "            )\n",
    "\n",
    "best_val_rmse -= 0.03  # just to make the graph look better\n",
    "plt.plot([0, n_epochs], [best_val_rmse, best_val_rmse], \"k:\", linewidth=2)\n",
    "plt.plot(np.sqrt(val_errors), \"b-\", linewidth=3, label=\"Validation set\")\n",
    "plt.plot(np.sqrt(train_errors), \"r--\", linewidth=2, label=\"Training set\")\n",
    "plt.legend(loc=\"upper right\", fontsize=14)\n",
    "plt.xlabel(\"Epoch\", fontsize=14)\n",
    "plt.ylabel(\"RMSE\", fontsize=14)\n",
    "plt.title('Figure 4-20. Early stopping regularization') # not shown in the book\n",
    "plt.show()"
   ]
  },
  {
   "cell_type": "code",
   "execution_count": 31,
   "metadata": {},
   "outputs": [
    {
     "data": {
      "text/plain": [
       "(26,\n",
       " SGDRegressor(eta0=0.0005, learning_rate='constant', n_iter_no_change=1,\n",
       "              penalty=None, warm_start=True))"
      ]
     },
     "execution_count": 31,
     "metadata": {},
     "output_type": "execute_result"
    }
   ],
   "source": [
    "from sklearn.base import clone\n",
    "\n",
    "sgd_reg = SGDRegressor(n_iter_no_change=1, warm_start=True, penalty=None, learning_rate='constant', eta0=0.0005)\n",
    "\n",
    "minimum_val_error = float('inf')\n",
    "best_epoch = None\n",
    "best_model = None\n",
    "for epoch in range(1000):\n",
    "    sgd_reg.fit(X_train_poly_scaled, y_train)\n",
    "    y_val_predict = sgd_reg.predict(X_val_poly_scaled)\n",
    "    val_error = mean_squared_error(y_val_predict, y_val)\n",
    "    if val_error < minimum_val_error:\n",
    "        minimum_val_error = val_error\n",
    "        best_epoch = epoch\n",
    "        best_model = clone(sgd_reg)\n",
    "\n",
    "best_epoch, best_model"
   ]
  },
  {
   "cell_type": "markdown",
   "metadata": {},
   "source": [
    "## 逻辑回归\n",
    "\n",
    "一些回归算法也可以用于分类（反之亦然）。逻辑回归（Logistic回归，也叫罗吉思回归）被广泛用于估算一个实例属于某个特定类别的概率。"
   ]
  },
  {
   "cell_type": "code",
   "execution_count": null,
   "metadata": {},
   "outputs": [],
   "source": []
  }
 ],
 "metadata": {
  "kernelspec": {
   "display_name": "Python 3",
   "language": "python",
   "name": "python3"
  },
  "language_info": {
   "codemirror_mode": {
    "name": "ipython",
    "version": 3
   },
   "file_extension": ".py",
   "mimetype": "text/x-python",
   "name": "python",
   "nbconvert_exporter": "python",
   "pygments_lexer": "ipython3",
   "version": "3.6.9"
  }
 },
 "nbformat": 4,
 "nbformat_minor": 2
}
